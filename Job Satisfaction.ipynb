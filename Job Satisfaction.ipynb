{
 "cells": [
  {
   "cell_type": "markdown",
   "metadata": {},
   "source": [
    "#### Job Satisfaction\n",
    "\n",
    "In this notebook, you will be exploring job satisfaction according to the survey results.  Use the cells at the top of the notebook to explore as necessary, and use your findings to solve the questions at the bottom of the notebook."
   ]
  },
  {
   "cell_type": "code",
   "execution_count": 1,
   "metadata": {},
   "outputs": [
    {
     "data": {
      "text/html": [
       "<div>\n",
       "<style scoped>\n",
       "    .dataframe tbody tr th:only-of-type {\n",
       "        vertical-align: middle;\n",
       "    }\n",
       "\n",
       "    .dataframe tbody tr th {\n",
       "        vertical-align: top;\n",
       "    }\n",
       "\n",
       "    .dataframe thead th {\n",
       "        text-align: right;\n",
       "    }\n",
       "</style>\n",
       "<table border=\"1\" class=\"dataframe\">\n",
       "  <thead>\n",
       "    <tr style=\"text-align: right;\">\n",
       "      <th></th>\n",
       "      <th>Respondent</th>\n",
       "      <th>Professional</th>\n",
       "      <th>ProgramHobby</th>\n",
       "      <th>Country</th>\n",
       "      <th>University</th>\n",
       "      <th>EmploymentStatus</th>\n",
       "      <th>FormalEducation</th>\n",
       "      <th>MajorUndergrad</th>\n",
       "      <th>HomeRemote</th>\n",
       "      <th>CompanySize</th>\n",
       "      <th>...</th>\n",
       "      <th>StackOverflowMakeMoney</th>\n",
       "      <th>Gender</th>\n",
       "      <th>HighestEducationParents</th>\n",
       "      <th>Race</th>\n",
       "      <th>SurveyLong</th>\n",
       "      <th>QuestionsInteresting</th>\n",
       "      <th>QuestionsConfusing</th>\n",
       "      <th>InterestedAnswers</th>\n",
       "      <th>Salary</th>\n",
       "      <th>ExpectedSalary</th>\n",
       "    </tr>\n",
       "  </thead>\n",
       "  <tbody>\n",
       "    <tr>\n",
       "      <th>0</th>\n",
       "      <td>1</td>\n",
       "      <td>Student</td>\n",
       "      <td>Yes, both</td>\n",
       "      <td>United States</td>\n",
       "      <td>No</td>\n",
       "      <td>Not employed, and not looking for work</td>\n",
       "      <td>Secondary school</td>\n",
       "      <td>NaN</td>\n",
       "      <td>NaN</td>\n",
       "      <td>NaN</td>\n",
       "      <td>...</td>\n",
       "      <td>Strongly disagree</td>\n",
       "      <td>Male</td>\n",
       "      <td>High school</td>\n",
       "      <td>White or of European descent</td>\n",
       "      <td>Strongly disagree</td>\n",
       "      <td>Strongly agree</td>\n",
       "      <td>Disagree</td>\n",
       "      <td>Strongly agree</td>\n",
       "      <td>NaN</td>\n",
       "      <td>NaN</td>\n",
       "    </tr>\n",
       "    <tr>\n",
       "      <th>1</th>\n",
       "      <td>2</td>\n",
       "      <td>Student</td>\n",
       "      <td>Yes, both</td>\n",
       "      <td>United Kingdom</td>\n",
       "      <td>Yes, full-time</td>\n",
       "      <td>Employed part-time</td>\n",
       "      <td>Some college/university study without earning ...</td>\n",
       "      <td>Computer science or software engineering</td>\n",
       "      <td>More than half, but not all, the time</td>\n",
       "      <td>20 to 99 employees</td>\n",
       "      <td>...</td>\n",
       "      <td>Strongly disagree</td>\n",
       "      <td>Male</td>\n",
       "      <td>A master's degree</td>\n",
       "      <td>White or of European descent</td>\n",
       "      <td>Somewhat agree</td>\n",
       "      <td>Somewhat agree</td>\n",
       "      <td>Disagree</td>\n",
       "      <td>Strongly agree</td>\n",
       "      <td>NaN</td>\n",
       "      <td>37500.0</td>\n",
       "    </tr>\n",
       "    <tr>\n",
       "      <th>2</th>\n",
       "      <td>3</td>\n",
       "      <td>Professional developer</td>\n",
       "      <td>Yes, both</td>\n",
       "      <td>United Kingdom</td>\n",
       "      <td>No</td>\n",
       "      <td>Employed full-time</td>\n",
       "      <td>Bachelor's degree</td>\n",
       "      <td>Computer science or software engineering</td>\n",
       "      <td>Less than half the time, but at least one day ...</td>\n",
       "      <td>10,000 or more employees</td>\n",
       "      <td>...</td>\n",
       "      <td>Disagree</td>\n",
       "      <td>Male</td>\n",
       "      <td>A professional degree</td>\n",
       "      <td>White or of European descent</td>\n",
       "      <td>Somewhat agree</td>\n",
       "      <td>Agree</td>\n",
       "      <td>Disagree</td>\n",
       "      <td>Agree</td>\n",
       "      <td>113750.0</td>\n",
       "      <td>NaN</td>\n",
       "    </tr>\n",
       "    <tr>\n",
       "      <th>3</th>\n",
       "      <td>4</td>\n",
       "      <td>Professional non-developer who sometimes write...</td>\n",
       "      <td>Yes, both</td>\n",
       "      <td>United States</td>\n",
       "      <td>No</td>\n",
       "      <td>Employed full-time</td>\n",
       "      <td>Doctoral degree</td>\n",
       "      <td>A non-computer-focused engineering discipline</td>\n",
       "      <td>Less than half the time, but at least one day ...</td>\n",
       "      <td>10,000 or more employees</td>\n",
       "      <td>...</td>\n",
       "      <td>Disagree</td>\n",
       "      <td>Male</td>\n",
       "      <td>A doctoral degree</td>\n",
       "      <td>White or of European descent</td>\n",
       "      <td>Agree</td>\n",
       "      <td>Agree</td>\n",
       "      <td>Somewhat agree</td>\n",
       "      <td>Strongly agree</td>\n",
       "      <td>NaN</td>\n",
       "      <td>NaN</td>\n",
       "    </tr>\n",
       "    <tr>\n",
       "      <th>4</th>\n",
       "      <td>5</td>\n",
       "      <td>Professional developer</td>\n",
       "      <td>Yes, I program as a hobby</td>\n",
       "      <td>Switzerland</td>\n",
       "      <td>No</td>\n",
       "      <td>Employed full-time</td>\n",
       "      <td>Master's degree</td>\n",
       "      <td>Computer science or software engineering</td>\n",
       "      <td>Never</td>\n",
       "      <td>10 to 19 employees</td>\n",
       "      <td>...</td>\n",
       "      <td>NaN</td>\n",
       "      <td>NaN</td>\n",
       "      <td>NaN</td>\n",
       "      <td>NaN</td>\n",
       "      <td>NaN</td>\n",
       "      <td>NaN</td>\n",
       "      <td>NaN</td>\n",
       "      <td>NaN</td>\n",
       "      <td>NaN</td>\n",
       "      <td>NaN</td>\n",
       "    </tr>\n",
       "  </tbody>\n",
       "</table>\n",
       "<p>5 rows × 154 columns</p>\n",
       "</div>"
      ],
      "text/plain": [
       "   Respondent                                       Professional  \\\n",
       "0           1                                            Student   \n",
       "1           2                                            Student   \n",
       "2           3                             Professional developer   \n",
       "3           4  Professional non-developer who sometimes write...   \n",
       "4           5                             Professional developer   \n",
       "\n",
       "                ProgramHobby         Country      University  \\\n",
       "0                  Yes, both   United States              No   \n",
       "1                  Yes, both  United Kingdom  Yes, full-time   \n",
       "2                  Yes, both  United Kingdom              No   \n",
       "3                  Yes, both   United States              No   \n",
       "4  Yes, I program as a hobby     Switzerland              No   \n",
       "\n",
       "                         EmploymentStatus  \\\n",
       "0  Not employed, and not looking for work   \n",
       "1                      Employed part-time   \n",
       "2                      Employed full-time   \n",
       "3                      Employed full-time   \n",
       "4                      Employed full-time   \n",
       "\n",
       "                                     FormalEducation  \\\n",
       "0                                   Secondary school   \n",
       "1  Some college/university study without earning ...   \n",
       "2                                  Bachelor's degree   \n",
       "3                                    Doctoral degree   \n",
       "4                                    Master's degree   \n",
       "\n",
       "                                  MajorUndergrad  \\\n",
       "0                                            NaN   \n",
       "1       Computer science or software engineering   \n",
       "2       Computer science or software engineering   \n",
       "3  A non-computer-focused engineering discipline   \n",
       "4       Computer science or software engineering   \n",
       "\n",
       "                                          HomeRemote  \\\n",
       "0                                                NaN   \n",
       "1              More than half, but not all, the time   \n",
       "2  Less than half the time, but at least one day ...   \n",
       "3  Less than half the time, but at least one day ...   \n",
       "4                                              Never   \n",
       "\n",
       "                CompanySize       ...       StackOverflowMakeMoney Gender  \\\n",
       "0                       NaN       ...            Strongly disagree   Male   \n",
       "1        20 to 99 employees       ...            Strongly disagree   Male   \n",
       "2  10,000 or more employees       ...                     Disagree   Male   \n",
       "3  10,000 or more employees       ...                     Disagree   Male   \n",
       "4        10 to 19 employees       ...                          NaN    NaN   \n",
       "\n",
       "  HighestEducationParents                          Race         SurveyLong  \\\n",
       "0             High school  White or of European descent  Strongly disagree   \n",
       "1       A master's degree  White or of European descent     Somewhat agree   \n",
       "2   A professional degree  White or of European descent     Somewhat agree   \n",
       "3       A doctoral degree  White or of European descent              Agree   \n",
       "4                     NaN                           NaN                NaN   \n",
       "\n",
       "  QuestionsInteresting QuestionsConfusing InterestedAnswers    Salary  \\\n",
       "0       Strongly agree           Disagree    Strongly agree       NaN   \n",
       "1       Somewhat agree           Disagree    Strongly agree       NaN   \n",
       "2                Agree           Disagree             Agree  113750.0   \n",
       "3                Agree     Somewhat agree    Strongly agree       NaN   \n",
       "4                  NaN                NaN               NaN       NaN   \n",
       "\n",
       "   ExpectedSalary  \n",
       "0             NaN  \n",
       "1         37500.0  \n",
       "2             NaN  \n",
       "3             NaN  \n",
       "4             NaN  \n",
       "\n",
       "[5 rows x 154 columns]"
      ]
     },
     "execution_count": 1,
     "metadata": {},
     "output_type": "execute_result"
    }
   ],
   "source": [
    "import pandas as pd\n",
    "import numpy as np\n",
    "import JobSatisfaction as t\n",
    "import matplotlib.pyplot as plt\n",
    "%matplotlib inline\n",
    "\n",
    "df = pd.read_csv('./survey_results_public.csv')\n",
    "schema = pd.read_csv('./survey_results_schema.csv')\n",
    "df.head()"
   ]
  },
  {
   "cell_type": "code",
   "execution_count": 7,
   "metadata": {},
   "outputs": [],
   "source": [
    "Total_value_counts=df['JobSatisfaction'].value_counts().sum()"
   ]
  },
  {
   "cell_type": "code",
   "execution_count": 8,
   "metadata": {},
   "outputs": [
    {
     "data": {
      "text/plain": [
       "15253"
      ]
     },
     "execution_count": 8,
     "metadata": {},
     "output_type": "execute_result"
    }
   ],
   "source": [
    "Total_value_counts"
   ]
  },
  {
   "cell_type": "code",
   "execution_count": 11,
   "metadata": {},
   "outputs": [
    {
     "data": {
      "text/plain": [
       "3849"
      ]
     },
     "execution_count": 11,
     "metadata": {},
     "output_type": "execute_result"
    }
   ],
   "source": [
    "#Proportion of missing values in job satisfaction col\n",
    "Missing_value_counts=df['JobSatisfaction'].isnull().sum()\n",
    "Missing_value_counts"
   ]
  },
  {
   "cell_type": "code",
   "execution_count": 12,
   "metadata": {},
   "outputs": [
    {
     "data": {
      "text/plain": [
       "0.25234380121943223"
      ]
     },
     "execution_count": 12,
     "metadata": {},
     "output_type": "execute_result"
    }
   ],
   "source": [
    "Missing_value_counts/Total_value_counts"
   ]
  },
  {
   "cell_type": "code",
   "execution_count": 14,
   "metadata": {},
   "outputs": [
    {
     "data": {
      "text/plain": [
       "count    15253.000000\n",
       "mean         7.000721\n",
       "std          2.128648\n",
       "min          0.000000\n",
       "25%          6.000000\n",
       "50%          7.000000\n",
       "75%          8.000000\n",
       "max         10.000000\n",
       "Name: JobSatisfaction, dtype: float64"
      ]
     },
     "execution_count": 14,
     "metadata": {},
     "output_type": "execute_result"
    }
   ],
   "source": [
    "df['JobSatisfaction'].describe()"
   ]
  },
  {
   "cell_type": "code",
   "execution_count": 20,
   "metadata": {},
   "outputs": [
    {
     "data": {
      "text/plain": [
       "3849"
      ]
     },
     "execution_count": 20,
     "metadata": {},
     "output_type": "execute_result"
    }
   ],
   "source": [
    "df['JobSatisfaction'].isnull().sum()"
   ]
  },
  {
   "cell_type": "code",
   "execution_count": 21,
   "metadata": {},
   "outputs": [
    {
     "data": {
      "text/plain": [
       "0.20149722542142184"
      ]
     },
     "execution_count": 21,
     "metadata": {},
     "output_type": "execute_result"
    }
   ],
   "source": [
    "df['JobSatisfaction'].isnull().mean()"
   ]
  },
  {
   "cell_type": "code",
   "execution_count": 23,
   "metadata": {},
   "outputs": [
    {
     "data": {
      "text/plain": [
       "Employed full-time                                      13655\n",
       "Independent contractor, freelancer, or self-employed     1866\n",
       "Employed part-time                                       1168\n",
       "Not employed, and not looking for work                   1066\n",
       "Not employed, but looking for work                        906\n",
       "I prefer not to say                                       381\n",
       "Retired                                                    60\n",
       "Name: EmploymentStatus, dtype: int64"
      ]
     },
     "execution_count": 23,
     "metadata": {},
     "output_type": "execute_result"
    }
   ],
   "source": [
    "df['EmploymentStatus'].value_counts()"
   ]
  },
  {
   "cell_type": "code",
   "execution_count": 25,
   "metadata": {},
   "outputs": [
    {
     "data": {
      "text/html": [
       "<div>\n",
       "<style scoped>\n",
       "    .dataframe tbody tr th:only-of-type {\n",
       "        vertical-align: middle;\n",
       "    }\n",
       "\n",
       "    .dataframe tbody tr th {\n",
       "        vertical-align: top;\n",
       "    }\n",
       "\n",
       "    .dataframe thead th {\n",
       "        text-align: right;\n",
       "    }\n",
       "</style>\n",
       "<table border=\"1\" class=\"dataframe\">\n",
       "  <thead>\n",
       "    <tr style=\"text-align: right;\">\n",
       "      <th></th>\n",
       "      <th>Respondent</th>\n",
       "      <th>CareerSatisfaction</th>\n",
       "      <th>JobSatisfaction</th>\n",
       "      <th>HoursPerWeek</th>\n",
       "      <th>StackOverflowSatisfaction</th>\n",
       "      <th>Salary</th>\n",
       "      <th>ExpectedSalary</th>\n",
       "    </tr>\n",
       "    <tr>\n",
       "      <th>EmploymentStatus</th>\n",
       "      <th></th>\n",
       "      <th></th>\n",
       "      <th></th>\n",
       "      <th></th>\n",
       "      <th></th>\n",
       "      <th></th>\n",
       "      <th></th>\n",
       "    </tr>\n",
       "  </thead>\n",
       "  <tbody>\n",
       "    <tr>\n",
       "      <th>Employed full-time</th>\n",
       "      <td>9455.134017</td>\n",
       "      <td>7.408127</td>\n",
       "      <td>6.980608</td>\n",
       "      <td>3.280686</td>\n",
       "      <td>8.394302</td>\n",
       "      <td>59484.545564</td>\n",
       "      <td>33694.458564</td>\n",
       "    </tr>\n",
       "    <tr>\n",
       "      <th>Employed part-time</th>\n",
       "      <td>9853.381849</td>\n",
       "      <td>7.162011</td>\n",
       "      <td>6.846154</td>\n",
       "      <td>3.628231</td>\n",
       "      <td>8.307006</td>\n",
       "      <td>22542.459828</td>\n",
       "      <td>37178.879990</td>\n",
       "    </tr>\n",
       "    <tr>\n",
       "      <th>I prefer not to say</th>\n",
       "      <td>9961.018373</td>\n",
       "      <td>6.747967</td>\n",
       "      <td>NaN</td>\n",
       "      <td>4.863158</td>\n",
       "      <td>8.087500</td>\n",
       "      <td>NaN</td>\n",
       "      <td>36765.219991</td>\n",
       "    </tr>\n",
       "    <tr>\n",
       "      <th>Independent contractor, freelancer, or self-employed</th>\n",
       "      <td>9716.381029</td>\n",
       "      <td>7.417947</td>\n",
       "      <td>7.231985</td>\n",
       "      <td>3.993213</td>\n",
       "      <td>8.290698</td>\n",
       "      <td>NaN</td>\n",
       "      <td>27868.383944</td>\n",
       "    </tr>\n",
       "    <tr>\n",
       "      <th>Not employed, and not looking for work</th>\n",
       "      <td>9675.636961</td>\n",
       "      <td>6.715976</td>\n",
       "      <td>NaN</td>\n",
       "      <td>2.138211</td>\n",
       "      <td>8.200323</td>\n",
       "      <td>NaN</td>\n",
       "      <td>34472.638841</td>\n",
       "    </tr>\n",
       "    <tr>\n",
       "      <th>Not employed, but looking for work</th>\n",
       "      <td>9897.671082</td>\n",
       "      <td>5.020067</td>\n",
       "      <td>NaN</td>\n",
       "      <td>8.228916</td>\n",
       "      <td>8.271218</td>\n",
       "      <td>NaN</td>\n",
       "      <td>25407.271772</td>\n",
       "    </tr>\n",
       "    <tr>\n",
       "      <th>Retired</th>\n",
       "      <td>10445.233333</td>\n",
       "      <td>8.153846</td>\n",
       "      <td>NaN</td>\n",
       "      <td>2.500000</td>\n",
       "      <td>7.194444</td>\n",
       "      <td>NaN</td>\n",
       "      <td>NaN</td>\n",
       "    </tr>\n",
       "  </tbody>\n",
       "</table>\n",
       "</div>"
      ],
      "text/plain": [
       "                                                      Respondent  \\\n",
       "EmploymentStatus                                                   \n",
       "Employed full-time                                   9455.134017   \n",
       "Employed part-time                                   9853.381849   \n",
       "I prefer not to say                                  9961.018373   \n",
       "Independent contractor, freelancer, or self-emp...   9716.381029   \n",
       "Not employed, and not looking for work               9675.636961   \n",
       "Not employed, but looking for work                   9897.671082   \n",
       "Retired                                             10445.233333   \n",
       "\n",
       "                                                    CareerSatisfaction  \\\n",
       "EmploymentStatus                                                         \n",
       "Employed full-time                                            7.408127   \n",
       "Employed part-time                                            7.162011   \n",
       "I prefer not to say                                           6.747967   \n",
       "Independent contractor, freelancer, or self-emp...            7.417947   \n",
       "Not employed, and not looking for work                        6.715976   \n",
       "Not employed, but looking for work                            5.020067   \n",
       "Retired                                                       8.153846   \n",
       "\n",
       "                                                    JobSatisfaction  \\\n",
       "EmploymentStatus                                                      \n",
       "Employed full-time                                         6.980608   \n",
       "Employed part-time                                         6.846154   \n",
       "I prefer not to say                                             NaN   \n",
       "Independent contractor, freelancer, or self-emp...         7.231985   \n",
       "Not employed, and not looking for work                          NaN   \n",
       "Not employed, but looking for work                              NaN   \n",
       "Retired                                                         NaN   \n",
       "\n",
       "                                                    HoursPerWeek  \\\n",
       "EmploymentStatus                                                   \n",
       "Employed full-time                                      3.280686   \n",
       "Employed part-time                                      3.628231   \n",
       "I prefer not to say                                     4.863158   \n",
       "Independent contractor, freelancer, or self-emp...      3.993213   \n",
       "Not employed, and not looking for work                  2.138211   \n",
       "Not employed, but looking for work                      8.228916   \n",
       "Retired                                                 2.500000   \n",
       "\n",
       "                                                    StackOverflowSatisfaction  \\\n",
       "EmploymentStatus                                                                \n",
       "Employed full-time                                                   8.394302   \n",
       "Employed part-time                                                   8.307006   \n",
       "I prefer not to say                                                  8.087500   \n",
       "Independent contractor, freelancer, or self-emp...                   8.290698   \n",
       "Not employed, and not looking for work                               8.200323   \n",
       "Not employed, but looking for work                                   8.271218   \n",
       "Retired                                                              7.194444   \n",
       "\n",
       "                                                          Salary  \\\n",
       "EmploymentStatus                                                   \n",
       "Employed full-time                                  59484.545564   \n",
       "Employed part-time                                  22542.459828   \n",
       "I prefer not to say                                          NaN   \n",
       "Independent contractor, freelancer, or self-emp...           NaN   \n",
       "Not employed, and not looking for work                       NaN   \n",
       "Not employed, but looking for work                           NaN   \n",
       "Retired                                                      NaN   \n",
       "\n",
       "                                                    ExpectedSalary  \n",
       "EmploymentStatus                                                    \n",
       "Employed full-time                                    33694.458564  \n",
       "Employed part-time                                    37178.879990  \n",
       "I prefer not to say                                   36765.219991  \n",
       "Independent contractor, freelancer, or self-emp...    27868.383944  \n",
       "Not employed, and not looking for work                34472.638841  \n",
       "Not employed, but looking for work                    25407.271772  \n",
       "Retired                                                        NaN  "
      ]
     },
     "execution_count": 25,
     "metadata": {},
     "output_type": "execute_result"
    }
   ],
   "source": [
    "df.groupby('EmploymentStatus').mean()"
   ]
  },
  {
   "cell_type": "code",
   "execution_count": 31,
   "metadata": {},
   "outputs": [
    {
     "data": {
      "text/plain": [
       "CompanySize\n",
       "10,000 or more employees    6.793617\n",
       "5,000 to 9,999 employees    6.832155\n",
       "1,000 to 4,999 employees    6.908506\n",
       "20 to 99 employees          6.997039\n",
       "Fewer than 10 employees     7.025719\n",
       "100 to 499 employees        7.029324\n",
       "500 to 999 employees        7.029967\n",
       "10 to 19 employees          7.035739\n",
       "I don't know                7.054622\n",
       "I prefer not to answer      7.284946\n",
       "Name: JobSatisfaction, dtype: float64"
      ]
     },
     "execution_count": 31,
     "metadata": {},
     "output_type": "execute_result"
    }
   ],
   "source": [
    "df.groupby('CompanySize').mean()['JobSatisfaction'].sort_values()"
   ]
  },
  {
   "cell_type": "code",
   "execution_count": 33,
   "metadata": {},
   "outputs": [
    {
     "data": {
      "text/plain": [
       "Index(['Respondent', 'Professional', 'ProgramHobby', 'Country', 'University',\n",
       "       'EmploymentStatus', 'FormalEducation', 'MajorUndergrad', 'HomeRemote',\n",
       "       'CompanySize',\n",
       "       ...\n",
       "       'StackOverflowMakeMoney', 'Gender', 'HighestEducationParents', 'Race',\n",
       "       'SurveyLong', 'QuestionsInteresting', 'QuestionsConfusing',\n",
       "       'InterestedAnswers', 'Salary', 'ExpectedSalary'],\n",
       "      dtype='object', length=154)"
      ]
     },
     "execution_count": 33,
     "metadata": {},
     "output_type": "execute_result"
    }
   ],
   "source": [
    "df.columns"
   ]
  },
  {
   "cell_type": "code",
   "execution_count": 35,
   "metadata": {},
   "outputs": [
    {
     "data": {
      "text/plain": [
       "ProgramHobby\n",
       "No                                           6.874806\n",
       "Yes, I program as a hobby                    6.927150\n",
       "Yes, I contribute to open source projects    7.158649\n",
       "Yes, both                                    7.189316\n",
       "Name: JobSatisfaction, dtype: float64"
      ]
     },
     "execution_count": 35,
     "metadata": {},
     "output_type": "execute_result"
    }
   ],
   "source": [
    "df.groupby('ProgramHobby').mean()['JobSatisfaction'].sort_values()"
   ]
  },
  {
   "cell_type": "code",
   "execution_count": 36,
   "metadata": {},
   "outputs": [
    {
     "data": {
      "text/plain": [
       "HomeRemote\n",
       "Never                                                      6.697127\n",
       "It's complicated                                           6.942053\n",
       "More than half, but not all, the time                      6.973684\n",
       "A few days each month                                      7.096694\n",
       "About half the time                                        7.125737\n",
       "Less than half the time, but at least one day each week    7.143786\n",
       "All or almost all the time (I'm full-time remote)          7.405421\n",
       "Name: JobSatisfaction, dtype: float64"
      ]
     },
     "execution_count": 36,
     "metadata": {},
     "output_type": "execute_result"
    }
   ],
   "source": [
    "df.groupby('HomeRemote').mean()['JobSatisfaction'].sort_values()"
   ]
  },
  {
   "cell_type": "code",
   "execution_count": 42,
   "metadata": {},
   "outputs": [
    {
     "data": {
      "text/html": [
       "<div>\n",
       "<style scoped>\n",
       "    .dataframe tbody tr th:only-of-type {\n",
       "        vertical-align: middle;\n",
       "    }\n",
       "\n",
       "    .dataframe tbody tr th {\n",
       "        vertical-align: top;\n",
       "    }\n",
       "\n",
       "    .dataframe thead th {\n",
       "        text-align: right;\n",
       "    }\n",
       "</style>\n",
       "<table border=\"1\" class=\"dataframe\">\n",
       "  <thead>\n",
       "    <tr style=\"text-align: right;\">\n",
       "      <th></th>\n",
       "      <th>Respondent</th>\n",
       "      <th>CareerSatisfaction</th>\n",
       "      <th>JobSatisfaction</th>\n",
       "      <th>HoursPerWeek</th>\n",
       "      <th>StackOverflowSatisfaction</th>\n",
       "      <th>Salary</th>\n",
       "      <th>ExpectedSalary</th>\n",
       "    </tr>\n",
       "    <tr>\n",
       "      <th>FormalEducation</th>\n",
       "      <th></th>\n",
       "      <th></th>\n",
       "      <th></th>\n",
       "      <th></th>\n",
       "      <th></th>\n",
       "      <th></th>\n",
       "      <th></th>\n",
       "    </tr>\n",
       "  </thead>\n",
       "  <tbody>\n",
       "    <tr>\n",
       "      <th>Bachelor's degree</th>\n",
       "      <td>9527.091616</td>\n",
       "      <td>7.322164</td>\n",
       "      <td>6.900293</td>\n",
       "      <td>4.104258</td>\n",
       "      <td>8.403451</td>\n",
       "      <td>59004.115834</td>\n",
       "      <td>27459.337572</td>\n",
       "    </tr>\n",
       "    <tr>\n",
       "      <th>Doctoral degree</th>\n",
       "      <td>9627.894737</td>\n",
       "      <td>7.574349</td>\n",
       "      <td>7.438492</td>\n",
       "      <td>3.067633</td>\n",
       "      <td>8.242925</td>\n",
       "      <td>78174.121389</td>\n",
       "      <td>NaN</td>\n",
       "    </tr>\n",
       "    <tr>\n",
       "      <th>I never completed any formal education</th>\n",
       "      <td>9803.351724</td>\n",
       "      <td>7.196581</td>\n",
       "      <td>7.000000</td>\n",
       "      <td>6.893617</td>\n",
       "      <td>8.125000</td>\n",
       "      <td>46337.639391</td>\n",
       "      <td>67394.043949</td>\n",
       "    </tr>\n",
       "    <tr>\n",
       "      <th>I prefer not to answer</th>\n",
       "      <td>10269.017115</td>\n",
       "      <td>7.338542</td>\n",
       "      <td>7.211679</td>\n",
       "      <td>5.360000</td>\n",
       "      <td>8.134715</td>\n",
       "      <td>35191.954323</td>\n",
       "      <td>28040.986624</td>\n",
       "    </tr>\n",
       "    <tr>\n",
       "      <th>Master's degree</th>\n",
       "      <td>9582.720492</td>\n",
       "      <td>7.300302</td>\n",
       "      <td>6.977356</td>\n",
       "      <td>3.445985</td>\n",
       "      <td>8.355225</td>\n",
       "      <td>60398.444414</td>\n",
       "      <td>27240.384932</td>\n",
       "    </tr>\n",
       "    <tr>\n",
       "      <th>Primary/elementary school</th>\n",
       "      <td>9297.061881</td>\n",
       "      <td>7.406897</td>\n",
       "      <td>6.946237</td>\n",
       "      <td>2.469388</td>\n",
       "      <td>8.205240</td>\n",
       "      <td>65152.544305</td>\n",
       "      <td>37274.890612</td>\n",
       "    </tr>\n",
       "    <tr>\n",
       "      <th>Professional degree</th>\n",
       "      <td>10387.180392</td>\n",
       "      <td>7.465812</td>\n",
       "      <td>7.075893</td>\n",
       "      <td>3.559633</td>\n",
       "      <td>8.337662</td>\n",
       "      <td>48176.450790</td>\n",
       "      <td>15259.524758</td>\n",
       "    </tr>\n",
       "    <tr>\n",
       "      <th>Secondary school</th>\n",
       "      <td>9746.805568</td>\n",
       "      <td>7.348285</td>\n",
       "      <td>7.219512</td>\n",
       "      <td>3.267901</td>\n",
       "      <td>8.345531</td>\n",
       "      <td>38813.163348</td>\n",
       "      <td>33031.294772</td>\n",
       "    </tr>\n",
       "    <tr>\n",
       "      <th>Some college/university study without earning a bachelor's degree</th>\n",
       "      <td>9255.581387</td>\n",
       "      <td>7.424099</td>\n",
       "      <td>7.151268</td>\n",
       "      <td>3.086491</td>\n",
       "      <td>8.312830</td>\n",
       "      <td>58979.808989</td>\n",
       "      <td>35941.941020</td>\n",
       "    </tr>\n",
       "  </tbody>\n",
       "</table>\n",
       "</div>"
      ],
      "text/plain": [
       "                                                      Respondent  \\\n",
       "FormalEducation                                                    \n",
       "Bachelor's degree                                    9527.091616   \n",
       "Doctoral degree                                      9627.894737   \n",
       "I never completed any formal education               9803.351724   \n",
       "I prefer not to answer                              10269.017115   \n",
       "Master's degree                                      9582.720492   \n",
       "Primary/elementary school                            9297.061881   \n",
       "Professional degree                                 10387.180392   \n",
       "Secondary school                                     9746.805568   \n",
       "Some college/university study without earning a...   9255.581387   \n",
       "\n",
       "                                                    CareerSatisfaction  \\\n",
       "FormalEducation                                                          \n",
       "Bachelor's degree                                             7.322164   \n",
       "Doctoral degree                                               7.574349   \n",
       "I never completed any formal education                        7.196581   \n",
       "I prefer not to answer                                        7.338542   \n",
       "Master's degree                                               7.300302   \n",
       "Primary/elementary school                                     7.406897   \n",
       "Professional degree                                           7.465812   \n",
       "Secondary school                                              7.348285   \n",
       "Some college/university study without earning a...            7.424099   \n",
       "\n",
       "                                                    JobSatisfaction  \\\n",
       "FormalEducation                                                       \n",
       "Bachelor's degree                                          6.900293   \n",
       "Doctoral degree                                            7.438492   \n",
       "I never completed any formal education                     7.000000   \n",
       "I prefer not to answer                                     7.211679   \n",
       "Master's degree                                            6.977356   \n",
       "Primary/elementary school                                  6.946237   \n",
       "Professional degree                                        7.075893   \n",
       "Secondary school                                           7.219512   \n",
       "Some college/university study without earning a...         7.151268   \n",
       "\n",
       "                                                    HoursPerWeek  \\\n",
       "FormalEducation                                                    \n",
       "Bachelor's degree                                       4.104258   \n",
       "Doctoral degree                                         3.067633   \n",
       "I never completed any formal education                  6.893617   \n",
       "I prefer not to answer                                  5.360000   \n",
       "Master's degree                                         3.445985   \n",
       "Primary/elementary school                               2.469388   \n",
       "Professional degree                                     3.559633   \n",
       "Secondary school                                        3.267901   \n",
       "Some college/university study without earning a...      3.086491   \n",
       "\n",
       "                                                    StackOverflowSatisfaction  \\\n",
       "FormalEducation                                                                 \n",
       "Bachelor's degree                                                    8.403451   \n",
       "Doctoral degree                                                      8.242925   \n",
       "I never completed any formal education                               8.125000   \n",
       "I prefer not to answer                                               8.134715   \n",
       "Master's degree                                                      8.355225   \n",
       "Primary/elementary school                                            8.205240   \n",
       "Professional degree                                                  8.337662   \n",
       "Secondary school                                                     8.345531   \n",
       "Some college/university study without earning a...                   8.312830   \n",
       "\n",
       "                                                          Salary  \\\n",
       "FormalEducation                                                    \n",
       "Bachelor's degree                                   59004.115834   \n",
       "Doctoral degree                                     78174.121389   \n",
       "I never completed any formal education              46337.639391   \n",
       "I prefer not to answer                              35191.954323   \n",
       "Master's degree                                     60398.444414   \n",
       "Primary/elementary school                           65152.544305   \n",
       "Professional degree                                 48176.450790   \n",
       "Secondary school                                    38813.163348   \n",
       "Some college/university study without earning a...  58979.808989   \n",
       "\n",
       "                                                    ExpectedSalary  \n",
       "FormalEducation                                                     \n",
       "Bachelor's degree                                     27459.337572  \n",
       "Doctoral degree                                                NaN  \n",
       "I never completed any formal education                67394.043949  \n",
       "I prefer not to answer                                28040.986624  \n",
       "Master's degree                                       27240.384932  \n",
       "Primary/elementary school                             37274.890612  \n",
       "Professional degree                                   15259.524758  \n",
       "Secondary school                                      33031.294772  \n",
       "Some college/university study without earning a...    35941.941020  "
      ]
     },
     "execution_count": 42,
     "metadata": {},
     "output_type": "execute_result"
    }
   ],
   "source": [
    "df.groupby('FormalEducation').mean()"
   ]
  },
  {
   "cell_type": "markdown",
   "metadata": {},
   "source": [
    "#### Question 1\n",
    "\n",
    "**1.** Use the space above to assist in matching each variable (**a**, **b**, **c**, **d**, **e**, **f**, **g**, or **h** ) as the appropriate key that describes the value in the **job_sol_1** dictionary."
   ]
  },
  {
   "cell_type": "code",
   "execution_count": 45,
   "metadata": {},
   "outputs": [
    {
     "name": "stdout",
     "output_type": "stream",
     "text": [
      "Nice job! That's what we found as well!\n"
     ]
    }
   ],
   "source": [
    "a = 0.734\n",
    "b = 0.2014\n",
    "c = 'full-time'\n",
    "d = 'contractors'\n",
    "e = 'retired'\n",
    "f = 'yes'\n",
    "g = 'no'\n",
    "h = 'hard to tell'\n",
    "\n",
    "job_sol_1 = {'The proportion of missing values in the Job Satisfaction column':b,\n",
    "             'According to EmploymentStatus, which group has the highest average job satisfaction?':d, \n",
    "             'In general, do smaller companies appear to have employees with higher job satisfaction?':f}\n",
    "             \n",
    "t.jobsat_check1(job_sol_1)"
   ]
  },
  {
   "cell_type": "markdown",
   "metadata": {},
   "source": [
    "#### Question 2\n",
    "\n",
    "**2.** Use the space above to assist in matching each variable (**a**, **b**, **c** ) as the appropriate key that describes the value in the **job_sol_2** dictionary. Notice you can have the same letter appear more than once."
   ]
  },
  {
   "cell_type": "code",
   "execution_count": 50,
   "metadata": {},
   "outputs": [
    {
     "name": "stdout",
     "output_type": "stream",
     "text": [
      "Nice job! That's what we found as well!\n"
     ]
    }
   ],
   "source": [
    "a = 'yes'\n",
    "b = 'no'\n",
    "c = 'hard to tell'\n",
    "\n",
    "job_sol_2 = {'Do individuals who program outside of work appear to have higher JobSatisfaction?':a,\n",
    "             'Does flexibility to work outside of the office appear to have an influence on JobSatisfaction?':a, \n",
    "             'A friend says a Doctoral degree increases the chance of having job you like, does this seem true?':a}\n",
    "             \n",
    "t.jobsat_check2(job_sol_2)"
   ]
  },
  {
   "cell_type": "code",
   "execution_count": null,
   "metadata": {},
   "outputs": [],
   "source": []
  }
 ],
 "metadata": {
  "kernelspec": {
   "display_name": "Python 3",
   "language": "python",
   "name": "python3"
  },
  "language_info": {
   "codemirror_mode": {
    "name": "ipython",
    "version": 3
   },
   "file_extension": ".py",
   "mimetype": "text/x-python",
   "name": "python",
   "nbconvert_exporter": "python",
   "pygments_lexer": "ipython3",
   "version": "3.6.3"
  }
 },
 "nbformat": 4,
 "nbformat_minor": 2
}
